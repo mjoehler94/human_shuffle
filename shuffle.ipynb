{
 "cells": [
  {
   "cell_type": "markdown",
   "metadata": {},
   "source": [
    "# How Many Shuffles Does it Take to Sufficiently Randomize a Deck of Cards?"
   ]
  },
  {
   "cell_type": "code",
   "execution_count": 10,
   "metadata": {},
   "outputs": [],
   "source": [
    "import numpy as np\n",
    "import random"
   ]
  },
  {
   "cell_type": "code",
   "execution_count": 49,
   "metadata": {},
   "outputs": [],
   "source": [
    "# shuffle experiment\n",
    "\n",
    "def human_shuffle(cards, max_clump=4):\n",
    "    \"\"\"\n",
    "    imitate a human shuffle of cards\n",
    "    \"\"\"\n",
    "    # split deck in 2 (top and bottom)\n",
    "    n_cards = len(cards)\n",
    "    print(n_cards)\n",
    "    split = n_cards // 2 \n",
    "    top = cards[:split]\n",
    "    bottom = cards[split:]\n",
    "    n_top = len(top)\n",
    "    n_bottom = len(bottom)\n",
    "\n",
    "    # randomly chose a number 1:max_clump (check that enough cards are left)\n",
    "    shuffled_cards = np.repeat(-1,n_cards)#[-1] * n_cards\n",
    "    shuffle_pointer = 0\n",
    "    top_pointer = 0\n",
    "    bottom_pointer = 0\n",
    "    iter = 0\n",
    "    while shuffle_pointer < n_cards:\n",
    "        if(top_pointer <= n_top):\n",
    "            chunk_size = random.randint(1,max_clump)\n",
    "            chunk_size = np.where(top_pointer + chunk_size > n_top, n_top - top_pointer, chunk_size)\n",
    "            \n",
    "            shuffled_cards[shuffle_pointer:(shuffle_pointer+chunk_size)] = top[top_pointer:(top_pointer+chunk_size)]\n",
    "            top_pointer += chunk_size\n",
    "            shuffle_pointer += chunk_size\n",
    "\n",
    "        if(bottom_pointer <= n_bottom):\n",
    "            chunk_size = random.randint(1,max_clump)\n",
    "            chunk_size = np.where(bottom_pointer + chunk_size > n_bottom, n_bottom - bottom_pointer, chunk_size)\n",
    "            shuffled_cards[shuffle_pointer:(shuffle_pointer+chunk_size)] = bottom[bottom_pointer:(bottom_pointer+chunk_size)]\n",
    "            bottom_pointer += chunk_size\n",
    "            shuffle_pointer += chunk_size\n",
    "        iter +=1\n",
    "        print(iter, shuffle_pointer)\n",
    "\n",
    "    return shuffled_cards\n",
    "    \n",
    "\n",
    "\n",
    "def examine_results(cards):\n",
    "    \"\"\"\n",
    "    check how many cards are still next to their neighbors\n",
    "    \"\"\"\n",
    "    pass\n",
    "\n"
   ]
  },
  {
   "cell_type": "code",
   "execution_count": 71,
   "metadata": {},
   "outputs": [
    {
     "name": "stdout",
     "output_type": "stream",
     "text": [
      "29\n",
      "[ 1  2  3  4  5  6  7  8  9 10 11 12 13 14 15 16 17 18 19 20 21 22 23 24\n",
      " 25 26 27 28 29]\n",
      "29\n",
      "1 5\n",
      "2 11\n",
      "3 17\n",
      "4 20\n",
      "5 23\n",
      "6 25\n",
      "7 26\n",
      "8 28\n",
      "9 29\n",
      "29\n",
      "[ 1  2  3  4 15  5  6  7 16 17 18  8  9 10 11 19 20 12 13 21 14 22 23 24\n",
      " 25 26 27 28 29]\n"
     ]
    }
   ],
   "source": [
    "# test the shuffle function\n",
    "deck = np.array(range(1,53))\n",
    "deck = np.array(range(1,30))\n",
    "print(len(deck))\n",
    "print(deck)\n",
    "\n",
    "one_shuffle = human_shuffle(deck, max_clump=4)\n",
    "print(len(one_shuffle))\n",
    "print(one_shuffle)"
   ]
  },
  {
   "cell_type": "code",
   "execution_count": null,
   "metadata": {},
   "outputs": [],
   "source": []
  }
 ],
 "metadata": {
  "kernelspec": {
   "display_name": "Python 3",
   "language": "python",
   "name": "python3"
  },
  "language_info": {
   "codemirror_mode": {
    "name": "ipython",
    "version": 3
   },
   "file_extension": ".py",
   "mimetype": "text/x-python",
   "name": "python",
   "nbconvert_exporter": "python",
   "pygments_lexer": "ipython3",
   "version": "3.7.7"
  }
 },
 "nbformat": 4,
 "nbformat_minor": 4
}
